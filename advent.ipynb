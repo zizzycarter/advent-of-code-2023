{
 "cells": [
  {
   "cell_type": "markdown",
   "metadata": {},
   "source": [
    "# Day 1"
   ]
  },
  {
   "cell_type": "code",
   "execution_count": 2,
   "metadata": {},
   "outputs": [],
   "source": [
    "# data\n",
    "with open('d1.txt') as f:\n",
    "    data = f.read().splitlines()\n",
    "#  write to file\n",
    "# with open('coordinates.txt', 'w') as f:\n",
    "#     for line in coordinates:\n",
    "#         f.write(f\"{line}\\n\")"
   ]
  },
  {
   "cell_type": "markdown",
   "metadata": {},
   "source": [
    "Part 1"
   ]
  },
  {
   "cell_type": "code",
   "execution_count": 307,
   "metadata": {},
   "outputs": [
    {
     "data": {
      "text/plain": [
       "56397"
      ]
     },
     "execution_count": 307,
     "metadata": {},
     "output_type": "execute_result"
    }
   ],
   "source": [
    "coordinates = []\n",
    "for x in data:\n",
    "    numbers = []\n",
    "    for a in x:\n",
    "        if a.isdigit():\n",
    "            numbers.append(a)\n",
    "    coordinates.append(int(numbers[0]+numbers[-1]))\n",
    "sum(coordinates)\n"
   ]
  },
  {
   "cell_type": "markdown",
   "metadata": {},
   "source": [
    "Part 2"
   ]
  },
  {
   "cell_type": "code",
   "execution_count": 4,
   "metadata": {},
   "outputs": [],
   "source": [
    "num_match = {\n",
    "    \"one\":1,\n",
    "    \"two\":2,\n",
    "    \"three\":3,\n",
    "    \"four\":4,\n",
    "    \"five\":5,\n",
    "    \"six\":6,\n",
    "    \"seven\":7,\n",
    "    \"eight\":8,\n",
    "    \"nine\":9\n",
    "}"
   ]
  },
  {
   "cell_type": "code",
   "execution_count": 10,
   "metadata": {},
   "outputs": [
    {
     "data": {
      "text/plain": [
       "55701"
      ]
     },
     "execution_count": 10,
     "metadata": {},
     "output_type": "execute_result"
    }
   ],
   "source": [
    "coordinates = []\n",
    "for x in data:\n",
    "    temp = []\n",
    "    for i in range(len(x)):\n",
    "        if (x[i]).isdigit():\n",
    "            temp.append(x[i])\n",
    "        else:\n",
    "            for j in range(1,len(x)+1):\n",
    "                for key,value in num_match.items():\n",
    "                    if key == x[i:j]:\n",
    "                        temp.append(value)\n",
    "                        break\n",
    "                else:\n",
    "                    continue\n",
    "                break\n",
    "    coordinates.append(int(str(temp[0])+str(temp[-1])))\n",
    "sum(coordinates)\n",
    "        # print([v for k, v in num_match.items() if k in a[i:j]])"
   ]
  },
  {
   "cell_type": "markdown",
   "metadata": {},
   "source": [
    "# Day 2"
   ]
  },
  {
   "cell_type": "markdown",
   "metadata": {},
   "source": []
  }
 ],
 "metadata": {
  "kernelspec": {
   "display_name": "Python 3",
   "language": "python",
   "name": "python3"
  },
  "language_info": {
   "codemirror_mode": {
    "name": "ipython",
    "version": 3
   },
   "file_extension": ".py",
   "mimetype": "text/x-python",
   "name": "python",
   "nbconvert_exporter": "python",
   "pygments_lexer": "ipython3",
   "version": "3.9.10"
  }
 },
 "nbformat": 4,
 "nbformat_minor": 2
}
